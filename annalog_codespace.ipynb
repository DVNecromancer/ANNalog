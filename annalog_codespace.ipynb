{
 "cells": [
  {
   "cell_type": "markdown",
   "metadata": {
    "vscode": {
     "languageId": "plaintext"
    }
   },
   "source": [
    "## ANNalog example from start"
   ]
  },
  {
   "cell_type": "code",
   "execution_count": 3,
   "metadata": {},
   "outputs": [
    {
     "data": {
      "text/plain": [
       "[('O=C(Nc1ccc(S(=O)(=O)Nc2ncccc2)c2cccnc12)C(F)(F)F', -3.4170733197113634),\n",
       " ('O=C(Nc1ccc(S(=O)(=O)Nc2ncccn2)c2cccnc12)C(F)(F)F', -3.6387828221618577),\n",
       " ('O=C(Nc1ccc(S(=O)(=O)Nc2nccnc2)c2cccnc12)C(F)(F)F', -3.8674204677024875),\n",
       " ('O=C(Nc1ccc(S(=O)(=O)Nc2nccnc2)c2cccnc12)C', -4.358437301284596),\n",
       " ('O=C(Nc1ccc(S(=O)(=O)Nc2ncccc2)c2cccnc12)C', -4.627898956463753),\n",
       " ('O=C(Nc1ccc(S(=O)(=O)Nc2ncccn2)c2cccnc12)C', -4.710170809516342),\n",
       " ('O=C(Nc1ccc(S(=O)(=O)Nc2ncc(Cl)nc2)c2cccnc12)C(F)(F)F', -4.714851085248171),\n",
       " ('O=C(Nc1ccc(S(=O)(=O)Nc2nccnc2)c2cccnc12)CC', -4.800333143836781),\n",
       " ('O=C(Nc1ccc(S(=O)(=O)Nc2nccnc2)c2ccccc12)C(F)(F)F', -4.850330277766481),\n",
       " ('O=C(Nc1ccc(S(=O)(=O)Nc2ncccc2)c2cccnc12)CC', -5.010912949965416),\n",
       " ('O=C(Nc1ccc(S(=O)(=O)Nc2ncc(F)cc2)c2cccnc12)C(F)(F)F', -5.036708691278051),\n",
       " ('O=C(Nc1ccc(S(=O)(=O)Nc2cccnc2)c2cccnc12)C(F)(F)F', -5.039462450731008),\n",
       " ('O=C(Nc1ccc(S(=O)(=O)Nc2ncccn2)c2ccccc12)C(F)(F)F', -5.078756433083633),\n",
       " ('O=C(Nc1ccc(S(=O)(=O)Nc2ncccn2)c2cccnc12)CC', -5.08533105660382),\n",
       " ('O=C(Nc1ccc(S(=O)(=O)Nc2ccncc2)c2cccnc12)C(F)(F)F', -5.1071563414166405),\n",
       " ('O=C(Nc1ccc(S(=O)(=O)Nc2ncncc2)c2cccnc12)C(F)(F)F', -5.136559121025272),\n",
       " ('O=C(Nc1ccc(S(=O)(=O)Nc2ccccc2)c2cccnc12)C(F)(F)F', -5.196224971897124),\n",
       " ('O=C(Nc1ccc(S(=O)(=O)Nc2cnccc2)c2cccnc12)C(F)(F)F', -5.238936950407066),\n",
       " ('O=C(Nc1ccc(S(=O)(=O)Nc2ncc(C)nc2)c2cccnc12)C(F)(F)F', -5.239802092654855),\n",
       " ('O=C(Nc1ccc(S(=O)(=O)Nc2ncc(Cl)cc2)c2cccnc12)C(F)(F)F', -5.26587932504853),\n",
       " ('O=C(Nc1ccc(S(=O)(=O)Nc2ncccc2)c2ccccc12)C(F)(F)F', -5.276833722211215),\n",
       " ('O=C(Nc1ccc(S(=O)(=O)Nc2nccnc2)c2cccnc12)C1CC1', -5.40411582686562),\n",
       " ('O=C(Nc1ccc(S(=O)(=O)Nc2ncccc2)c2cccnc12)C1CC1', -5.626443256089544),\n",
       " ('c1ccc(S(=O)(=O)Nc2nccnc2)c2cccnc12', -5.631020911978105),\n",
       " ('O=C(Nc1ccc(S(=O)(=O)Nc2ncccn2)c2cccnc12)C1CC1', -5.649731080617414),\n",
       " ('O=C(Nc1ccc(S(=O)(=O)N2CCOCC2)c2cccnc12)C(F)(F)F', -5.869452093878628),\n",
       " ('O=C(Nc1ccc(S(=O)(=O)Nc2cncnc2)c2cccnc12)C(F)(F)F', -5.876265257381334),\n",
       " ('Nc1ccc(S(=O)(=O)Nc2nccnc2)c2cccnc12', -5.911102913731554),\n",
       " ('O=C(Nc1ccc(S(=O)(=O)Nc2ncc(F)nc2)c2cccnc12)C(F)(F)F', -5.918329121215635),\n",
       " ('O=C(Nc1ccc(S(=O)(=O)Nc2nnccc2)c2cccnc12)C(F)(F)F', -6.0089394459569405),\n",
       " ('O=C(Nc1ccc(S(=O)(=O)Nc2ncc(C)cc2)c2cccnc12)C(F)(F)F', -6.040465670367013),\n",
       " ('O=C(Nc1ccc(S(=O)(=O)Nc2nccnc2)c2cccnc12)c1ccccc1', -6.057100785600653),\n",
       " ('O=C(Nc1ccc(S(=O)(=O)Nc2ccccn2)c2cccnc12)C(F)(F)F', -6.141710714931747),\n",
       " ('O=C(Nc1ccc(S(=O)(=O)Nc2ncccc2)c2cccnc12)c1ccccc1', -6.1441024405579014),\n",
       " ('O=C(Nc1ccc(S(=O)(=O)Nc2cnccn2)c2cccnc12)C(F)(F)F', -6.154598972842479),\n",
       " ('O=C(Nc1ccc(S(=O)(=O)Nc2nocc2)c2cccnc12)C(F)(F)F', -6.1628797768821855),\n",
       " ('O=C(Nc1ccc(S(=O)(=O)Nc2ncc(C[C@@]N)cc2)c2cccnc12)C(F)(F)F',\n",
       "  -6.204203240734294),\n",
       " ('O=C(Nc1ccc(S(=O)(=O)Nc2nc(C)cnc2)c2cccnc12)C(F)(F)F', -6.216590059890478),\n",
       " ('O=C(Nc1ccc(S(=O)(=O)Nc2nccc(Cl)c2)c2cccnc12)C(F)(F)F', -6.23692683318572),\n",
       " ('O=C(Nc1ccc(S(=O)(=O)Nc2ncc(F)cn2)c2cccnc12)C(F)(F)F', -6.267946416612659),\n",
       " ('O=C(Nc1ccc(S(=O)(=O)N2CCN(C)CC2)c2cccnc12)C(F)(F)F', -6.276646487436317),\n",
       " ('c1ccc(S(=O)(=O)Nc2ncccc2)c2cccnc12', -6.309497346653409),\n",
       " ('O=C(Nc1ccc(S(=O)(=O)Nc2ncccn2)c2cccnc12)c1ccccc1', -6.372709148467322),\n",
       " ('O=C(Nc1ccc(S(=O)(=O)Nc2nccnc2)c2ccncc12)C(F)(F)F', -6.3866111698565575),\n",
       " ('O=C(Nc1ccc(S(=O)(=O)Nc2nccnc2)c2cccnc12)CC(F)(F)F', -6.388441181667865),\n",
       " ('O=C(Nc1ccc(S(=O)(=O)Nc2cccnc2)c2cccnc12)C', -6.430083846747095),\n",
       " ('O=C(Nc1ccc(S(=O)(=O)Nc2ncccc2)c2cccnc12)CCl', -6.514441038296411),\n",
       " ('O=C(Nc1ccc(S(=O)(=O)Nc2nccnc2)c2cccnc12)OC', -6.650282406873032),\n",
       " ('O=C(Nc1ccc(S(=O)(=O)Nc2ncccc2)c2cccnc12)NC', -6.736611733959137),\n",
       " ('O=C(Nc1ccc(S(=O)(=O)Nc2ncccn2)c2cccnc12)CCl', -6.786768857726258),\n",
       " ('O=C(Nc1ccc(S(=O)(=O)Nc2cccnc2)c2cccnc12)CC', -6.788991814552958),\n",
       " ('O=C(Nc1ccc(S(=O)(=O)Nc2ncccc2)c2cccnc12)OC', -6.790403812007128),\n",
       " ('O=C(Nc1ccc(S(=O)(=O)Nc2ncccn2)c2cccnc12)NC', -6.8251117508501125),\n",
       " ('O=C(Nc1ccc(S(=O)(=O)Nc2ccccc2)c2cccnc12)C', -7.059520835047863),\n",
       " ('O=C(Nc1ccc(S(=O)(=O)Nc2nccnc2)c2ccccc12)C', -7.075250194829145),\n",
       " ('O=C(Nc1ccc(S(=O)(=O)Nc2ncc(F)cc2)c2cccnc12)C', -7.287055187630415),\n",
       " ('O=C(Nc1ccc(S(=O)(=O)Nc2ncncc2)c2cccnc12)C', -7.446550463740607),\n",
       " ('O=C(Nc1ccc(S(=O)(=O)Nc2cnccc2)c2cccnc12)C', -7.676786693001361),\n",
       " ('O=C(Nc1ccc(S(=O)(=O)Nc2ccncc2)c2cccnc12)C', -7.682865564349697),\n",
       " ('O=C(Nc1ccc(S(=O)(=O)Nc2ncccc2)c2ccccc12)C', -7.69576162398544),\n",
       " ('O=C(Nc1ccc(S(=O)(=O)Nc2nccnc2)c2cccnc12)c1ccc[C@]1', -7.795135869552553),\n",
       " ('O=C(Nc1ccc(S(=O)(=O)Nc2ncccc2)c2cccnc12)c1ccc[C@]1', -7.810287448501015),\n",
       " ('O=C(Nc1ccc(S(=O)(=O)Nc2ncc(Cl)cc2)c2cccnc12)C', -7.838794883751973),\n",
       " ('O=C(Nc1ccc(S(=O)(=O)Nc2nccnc2)c2cccnc12)N', -7.8857629612749065),\n",
       " ('O=C(Nc1ccc(S(=O)(=O)Nc2ncccn2)c2cccnc12)c1ccc[C@]1', -7.978265958162012),\n",
       " ('O=C(Nc1ccc(S(=O)(=O)Nc2nccnc2)c2cccnc12)CBr', -8.039108277923162),\n",
       " ('O=C(Nc1ccc(S(=O)(=O)Nc2ccccn2)c2cccnc12)C', -8.047678958654672),\n",
       " ('O=C(Nc1ccc(S(=O)(=O)Nc2nccnc2C)c2cccnc12)C', -8.081862243750095),\n",
       " ('O=C(Nc1ccc(S(=O)(=O)Nc2ncccc2)c2cccnc12)C(F)F', -8.085714070870182),\n",
       " ('O=C(Nc1ccc(S(=O)(=O)Nc2nccnc2)c2cccnc12)C(F)F', -8.186231398643741),\n",
       " ('O=C(Nc1ccc(S(=O)(=O)Nc2ncc(F)nc2)c2cccnc12)C', -8.188886600450644),\n",
       " ('O=C(Nc1ccc(S(=O)(=O)Nc2nnccc2)c2cccnc12)C', -8.235071008101897),\n",
       " ('O=C(Nc1ccc(S(=O)(=O)Nc2ncccc2)c2cccnc12)c1ccco1', -8.24454936608123),\n",
       " ('O=C(Nc1ccc(S(=O)(=O)Nc2ncccc2)c2cccnc12)CBr', -8.26693322770376),\n",
       " ('O=C(Nc1ccc(S(=O)(=O)Nc2nccnc2)c2cccnc12)c1ccco1', -8.275538815336802),\n",
       " ('O=C(Nc1ccc(S(=O)(=O)Nc2ncccn2)c2cccnc12)N', -8.298032883891494),\n",
       " ('O=C(Nc1ccc(S(=O)(=O)Nc2ncccc2)c2cccnc12)CF', -8.37825753800604),\n",
       " ('O=C(Nc1ccc(S(=O)(=O)Nc2ncccn2)c2cccnc12)CF', -8.395708982237522),\n",
       " ('O=C(Nc1ccc(S(=O)(=O)Nc2cnccn2)c2cccnc12)C', -8.54271485315627),\n",
       " ('O=C(Nc1ccc(S(=O)(=O)Nc2cncnc2)c2cccnc12)C', -8.562813036744103),\n",
       " ('O=C(Nc1ccc(S(=O)(=O)Nc2ncc(C)cc2)c2cccnc12)C', -8.56619059279052),\n",
       " ('O=C(Nc1ccc(S(=O)(=O)Nc2ccccc2)c2cccnc12)CCl', -8.605937832957181),\n",
       " ('O=C(Nc1ccc(S(=O)(=O)Nc2nccnc2)c2ccncc12)C', -8.663811634715778),\n",
       " ('O=C(Nc1ccc(S(=O)(=O)Nc2nccnc2)c2cccnc12)c1ccccn1', -8.731140318856944),\n",
       " ('O=C(Nc1ccc(S(=O)(=O)Nc2ncccc2Cl)c2cccnc12)C', -8.799272134205523),\n",
       " ('O=C(Nc1ccc(S(=O)(=O)N(C)c2ncccc2)c2cccnc12)C', -8.82015346233242),\n",
       " ('O=C(Nc1ccc(S(=O)(=O)Nc2ncc(F)cn2)c2cccnc12)C', -8.825084245166238),\n",
       " ('O=C(Nc1ccc(S(=O)(=O)Nc2ncccc2)c2cccnc12)c1ccccn1', -8.859166586095228),\n",
       " ('O=C(Nc1ccc(S(=O)(=O)Nc2ncncc2)c2cccnc12)CCl', -9.037928794924824),\n",
       " ('O=C(Nc1ccc(S(=O)(=O)Nc2nccnc2)c2cccnc12)c1ccccc1F', -9.07307973288232),\n",
       " ('O=C(Nc1ccc(S(=O)(=O)Nc2ncccn2)c2cccnc12)c1ccccn1', -9.098486730219804),\n",
       " ('O=C(Nc1ccc(S(=O)(=O)N2CCOCC2)c2cccnc12)C', -9.157069658897171),\n",
       " ('O=C(Nc1ccc(S(=O)(=O)Nc2nc(C)cnc2)c2cccnc12)C', -9.239639222591506),\n",
       " ('O=C(Nc1ccc(S(=O)(=O)Nc2cnccc2)c2cccnc12)CCl', -9.257898243332306),\n",
       " ('O=C(Nc1ccc(S(=O)(=O)Nc2ncc(C[C@@]N)cc2)c2cccnc12)C', -9.267343030937859),\n",
       " ('O=C(Nc1ccc(S(=O)(=O)Nc2ncc(Cl)nc2)c2cccnc12)CCl', -9.276517381694191),\n",
       " ('O=C(Nc1ccc(S(=O)(=O)Nc2ncccn2)c2ccccc12)CCl', -9.350660461454076),\n",
       " ('O=C(Nc1ccc(S(=O)(=O)Nc2ncccc2)c2cccnc12)c1ccccc1F', -9.36633816488768),\n",
       " ('O=C(Nc1ccc(S(=O)(=O)Nc2ncccc2)c2ccccc12)CCl', -9.418465557701033),\n",
       " ('O=C(Nc1ccc(S(=O)(=O)Nc2ncccn2)c2cccnc12)c1ccccc1F', -9.434459612608578)]"
      ]
     },
     "execution_count": 3,
     "metadata": {},
     "output_type": "execute_result"
    }
   ],
   "source": [
    "#generate SMILES based on one input SMILES\n",
    "from annalog.model_handler import SMILESModelHandler\n",
    "from annalog.SMILES_generator import SMILESGenerator\n",
    "\n",
    "# Initialize the model\n",
    "handler = SMILESModelHandler(\n",
    "    src_vocab_path='/workspaces/ANNalog/ckpt_and_vocab/stereo_experiment_vocab.pkl',\n",
    "    trg_vocab_path='/workspaces/ANNalog/ckpt_and_vocab/stereo_experiment_vocab.pkl',\n",
    "    model_path='/workspaces/ANNalog/ckpt_and_vocab/filtered_stereo.pt',\n",
    "    device='cuda'\n",
    ")\n",
    "generator = SMILESGenerator(handler)\n",
    "\n",
    "# Generate SMILES\n",
    "input_smiles = 'O=C(Nc1ccc(S(=O)(=O)Nc2nccs2)c2cccnc12)C(F)(F)F'\n",
    "generated_smiles = generator.generate_smiles(input_smiles=input_smiles, beam_width=100, generation_method='beam', prefix=0, filter_invalid=False)\n",
    "generated_smiles"
   ]
  },
  {
   "cell_type": "code",
   "execution_count": null,
   "metadata": {},
   "outputs": [],
   "source": []
  }
 ],
 "metadata": {
  "kernelspec": {
   "display_name": "annalog",
   "language": "python",
   "name": "python3"
  },
  "language_info": {
   "codemirror_mode": {
    "name": "ipython",
    "version": 3
   },
   "file_extension": ".py",
   "mimetype": "text/x-python",
   "name": "python",
   "nbconvert_exporter": "python",
   "pygments_lexer": "ipython3",
   "version": "3.9.19"
  }
 },
 "nbformat": 4,
 "nbformat_minor": 2
}
